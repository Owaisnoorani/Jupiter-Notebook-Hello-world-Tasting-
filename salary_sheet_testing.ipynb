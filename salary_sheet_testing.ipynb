{
  "nbformat": 4,
  "nbformat_minor": 0,
  "metadata": {
    "colab": {
      "provenance": [],
      "authorship_tag": "ABX9TyPZCHmyBMhfQMLHQwqYPQE3",
      "include_colab_link": true
    },
    "kernelspec": {
      "name": "python3",
      "display_name": "Python 3"
    },
    "language_info": {
      "name": "python"
    }
  },
  "cells": [
    {
      "cell_type": "markdown",
      "metadata": {
        "id": "view-in-github",
        "colab_type": "text"
      },
      "source": [
        "<a href=\"https://colab.research.google.com/github/Owaisnoorani/Jupiter-Notebook-Hello-world-Tasting-/blob/main/salary_sheet_testing.ipynb\" target=\"_parent\"><img src=\"https://colab.research.google.com/assets/colab-badge.svg\" alt=\"Open In Colab\"/></a>"
      ]
    },
    {
      "cell_type": "code",
      "source": [
        "# prompt: salary distrinution program thah collects empolyee deatails (name,salary,present and absent days),allow 1 day of absence exemption,applie sick leave exemption as spesified,deducts salary for additional absent days, and save all data in an excel sheet with column for employe name,salary,present days,absent days, sick leave exemptions,deduction days, per day deduction,exemption days, total\n",
        "\n",
        "import pandas as pd\n",
        "\n",
        "def calculate_salary():\n",
        "  \"\"\"\n",
        "  Collects employee details, calculates salary after deductions, and saves data to an Excel sheet.\n",
        "  \"\"\"\n",
        "  employees = []\n",
        "  while True:\n",
        "    name = input(\"Enter employee name (or 'done' to finish): \")\n",
        "    if name.lower() == 'done':\n",
        "      break\n",
        "    try:\n",
        "      salary = float(input(\"Enter employee salary: \"))\n",
        "      present_days = int(input(\"Enter number of days present: \"))\n",
        "      absent_days = int(input(\"Enter number of days absent: \"))\n",
        "      sick_leave_exemptions = int(input(\"Enter number of sick leave exemptions: \"))\n",
        "    except ValueError:\n",
        "      print(\"Invalid input. Please enter numbers only.\")\n",
        "      continue\n",
        "\n",
        "    # Calculate deduction days\n",
        "    deduction_days = max(0, absent_days - 1 - sick_leave_exemptions)\n",
        "\n",
        "    # Calculate per day deduction\n",
        "    per_day_deduction = salary / 30\n",
        "\n",
        "    # Calculate total deduction\n",
        "    total_deduction = deduction_days * per_day_deduction\n",
        "\n",
        "    # Calculate total salary\n",
        "    total_salary = salary - total_deduction\n",
        "\n",
        "    # Store employee data\n",
        "    employees.append([name, salary, present_days, absent_days, sick_leave_exemptions,\n",
        "                      deduction_days, per_day_deduction, sick_leave_exemptions + 1, total_salary])\n",
        "\n",
        "  # Create a pandas DataFrame\n",
        "  df = pd.DataFrame(employees, columns=['Employee Name', 'Salary', 'Present Days', 'Absent Days',\n",
        "                                        'Sick Leave Exemptions', 'Deduction Days', 'Per Day Deduction',\n",
        "                                        'Exemption Days', 'Total Salary'])\n",
        "\n",
        "  # Save data to Excel\n",
        "  df.to_excel(\"employee_salary_data.xlsx\", index=False)\n",
        "  print(\"Data saved to employee_salary_data.xlsx\")\n",
        "\n",
        "if __name__ == \"__main__\":\n",
        "  calculate_salary()\n"
      ],
      "metadata": {
        "colab": {
          "base_uri": "https://localhost:8080/"
        },
        "id": "Yp_pEZLswsOp",
        "outputId": "21caa935-e06a-4764-9ed8-5ab8a1590815"
      },
      "execution_count": 11,
      "outputs": [
        {
          "output_type": "stream",
          "name": "stdout",
          "text": [
            "Enter employee name (or 'done' to finish): Owais\n",
            "Enter employee salary: 40000\n",
            "Enter number of days present: 20\n",
            "Enter number of days absent: 10\n",
            "Enter number of sick leave exemptions: 2\n",
            "Enter employee name (or 'done' to finish): Nimra \n",
            "Enter employee salary: 50000\n",
            "Enter number of days present: 25\n",
            "Enter number of days absent: 5\n",
            "Enter number of sick leave exemptions: 3\n",
            "Enter employee name (or 'done' to finish): done\n",
            "Data saved to employee_salary_data.xlsx\n"
          ]
        }
      ]
    }
  ]
}