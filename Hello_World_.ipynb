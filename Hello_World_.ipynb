{
  "nbformat": 4,
  "nbformat_minor": 0,
  "metadata": {
    "colab": {
      "provenance": [],
      "authorship_tag": "ABX9TyM8fcuFre23F/KSKlvlT3xC",
      "include_colab_link": true
    },
    "kernelspec": {
      "name": "python3",
      "display_name": "Python 3"
    },
    "language_info": {
      "name": "python"
    }
  },
  "cells": [
    {
      "cell_type": "markdown",
      "metadata": {
        "id": "view-in-github",
        "colab_type": "text"
      },
      "source": [
        "<a href=\"https://colab.research.google.com/github/Owaisnoorani/Jupiter-Notebook-Hello-world-Tasting-/blob/main/Hello_World_.ipynb\" target=\"_parent\"><img src=\"https://colab.research.google.com/assets/colab-badge.svg\" alt=\"Open In Colab\"/></a>"
      ]
    },
    {
      "cell_type": "code",
      "execution_count": 2,
      "metadata": {
        "colab": {
          "base_uri": "https://localhost:8080/"
        },
        "id": "TSS7gR5Bb8uK",
        "outputId": "96eb0ec2-34f6-4e16-ecd5-90aff385057c"
      },
      "outputs": [
        {
          "output_type": "stream",
          "name": "stdout",
          "text": [
            "Hello Owais\n"
          ]
        }
      ],
      "source": [
        "# prompt: say Hello Owais\n",
        "\n",
        "print(\"Hello Owais\")\n"
      ]
    },
    {
      "cell_type": "code",
      "source": [
        "# prompt: # Import necessary libraries\n",
        "# import random\n",
        "\n",
        "import numpy as np\n"
      ],
      "metadata": {
        "id": "PWeb819LcQly"
      },
      "execution_count": 4,
      "outputs": []
    },
    {
      "cell_type": "code",
      "source": [
        "import random\n",
        "\n",
        "quiz = {\n",
        "    \"What is the capital of France?\": \"Paris\",\n",
        "    \"Who wrote 'Hamlet'?\": \"Shakespeare\",\n",
        "    \"What is the square root of 64?\": \"8\",\n",
        "    \"What is the chemical symbol for water?\": \"H2O\",\n",
        "    \"Who painted the Mona Lisa?\": \"Leonardo da Vinci\"\n",
        "}\n",
        "\n",
        "questions = list(quiz.keys())\n",
        "random.shuffle(questions)\n",
        "\n",
        "score = 0\n",
        "\n",
        "for question in questions:\n",
        "    print(question)\n",
        "    answer = input(\"Your answer: \")\n",
        "\n",
        "    if answer.lower() == quiz[question].lower():\n",
        "        print(\"Correct!\\n\")\n",
        "        score += 1\n",
        "    else:\n",
        "        print(f\"Wrong! The correct answer is {quiz[question]}.\\n\")\n",
        "\n",
        "print(f\"Your final score is {score}/{len(quiz)}.\")\n"
      ],
      "metadata": {
        "colab": {
          "base_uri": "https://localhost:8080/"
        },
        "id": "YBF3rIfYdjI3",
        "outputId": "4c17bbe2-0d37-4e3a-84d2-b8f9d1424b37"
      },
      "execution_count": null,
      "outputs": [
        {
          "output_type": "stream",
          "name": "stdout",
          "text": [
            "Who painted the Mona Lisa?\n"
          ]
        }
      ]
    }
  ]
}